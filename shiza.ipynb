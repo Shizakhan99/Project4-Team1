{
 "cells": [
  {
   "cell_type": "code",
   "execution_count": null,
   "metadata": {},
   "outputs": [
    {
     "name": "stdout",
     "output_type": "stream",
     "text": [
      "              precision    recall  f1-score   support\n",
      "\n",
      "           0       0.95      1.00      0.97      1458\n",
      "           1       0.20      0.01      0.03        75\n",
      "\n",
      "    accuracy                           0.95      1533\n",
      "   macro avg       0.58      0.51      0.50      1533\n",
      "weighted avg       0.91      0.95      0.93      1533\n",
      "\n"
     ]
    }
   ],
   "source": [
    "# DECISION TREES \n",
    "import pandas as pd\n",
    "from sklearn.model_selection import train_test_split\n",
    "from sklearn.tree import DecisionTreeClassifier\n",
    "from sklearn.metrics import classification_report\n",
    "from sklearn.impute import SimpleImputer\n",
    "from sklearn.preprocessing import LabelEncoder\n",
    "\n",
    "# Step 1: Load the dataset\n",
    "file_path = 'Resources/Stroke_dataset.csv'\n",
    "df_stroke_cleaned = pd.read_csv(file_path)\n",
    "\n",
    "# Step 2: Handle missing values for 'bmi' using mean imputation\n",
    "imputer = SimpleImputer(strategy='mean')\n",
    "df_stroke_cleaned['bmi'] = imputer.fit_transform(df_stroke_cleaned[['bmi']])\n",
    "\n",
    "# Step 3: Encode categorical variables\n",
    "categorical_cols = ['gender', 'ever_married', 'work_type', 'Residence_type', 'smoking_status']\n",
    "encoders = {col: LabelEncoder() for col in categorical_cols}\n",
    "for col, encoder in encoders.items():\n",
    "    df_stroke_cleaned[col] = encoder.fit_transform(df_stroke_cleaned[col])\n",
    "\n",
    "# Step 4: Define features and target variable\n",
    "X = df_stroke_cleaned.drop(columns=['id', 'stroke'])  # Exclude 'id' column\n",
    "y = df_stroke_cleaned['stroke']\n",
    "\n",
    "# Step 5: Split data into training and testing sets\n",
    "X_train, X_test, y_train, y_test = train_test_split(\n",
    "    X, y, test_size=0.3, random_state=42, stratify=y)\n",
    "\n",
    "# Step 6: Train a Decision Tree Classifier\n",
    "clf = DecisionTreeClassifier(max_depth=5, random_state=42)  # Limit depth to avoid overfitting\n",
    "clf.fit(X_train, y_train)\n",
    "\n",
    "# Step 7: Evaluate the model\n",
    "y_pred = clf.predict(X_test)\n",
    "report = classification_report(y_test, y_pred)\n",
    "\n",
    "# Display the classification report\n",
    "print(report)\n"
   ]
  }
 ],
 "metadata": {
  "kernelspec": {
   "display_name": "Python 3",
   "language": "python",
   "name": "python3"
  },
  "language_info": {
   "codemirror_mode": {
    "name": "ipython",
    "version": 3
   },
   "file_extension": ".py",
   "mimetype": "text/x-python",
   "name": "python",
   "nbconvert_exporter": "python",
   "pygments_lexer": "ipython3",
   "version": "3.12.3"
  }
 },
 "nbformat": 4,
 "nbformat_minor": 2
}
